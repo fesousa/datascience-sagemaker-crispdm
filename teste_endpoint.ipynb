{
 "cells": [
  {
   "cell_type": "code",
   "execution_count": 1,
   "id": "29f350a7",
   "metadata": {},
   "outputs": [],
   "source": [
    "import boto3\n",
    "import pandas as pd\n",
    "import json\n",
    "import sklearn.metrics as metrics"
   ]
  },
  {
   "cell_type": "code",
   "execution_count": 2,
   "id": "d44f5fe9",
   "metadata": {},
   "outputs": [],
   "source": [
    "# nome do endpoint - verificar o resultado de predictor.endpoint_name\n",
    "endpoint_name = 'datascience-credito-xgboost'"
   ]
  },
  {
   "cell_type": "code",
   "execution_count": 3,
   "id": "2ab03d42",
   "metadata": {},
   "outputs": [],
   "source": [
    "runtime = boto3.client('runtime.sagemaker')"
   ]
  },
  {
   "cell_type": "code",
   "execution_count": 5,
   "id": "290178d8",
   "metadata": {},
   "outputs": [
    {
     "name": "stdout",
     "output_type": "stream",
     "text": [
      "[[336 134]\n",
      " [108 404]]\n",
      "              precision    recall  f1-score   support\n",
      "\n",
      "           0       0.76      0.71      0.74       470\n",
      "           1       0.75      0.79      0.77       512\n",
      "\n",
      "    accuracy                           0.75       982\n",
      "   macro avg       0.75      0.75      0.75       982\n",
      "weighted avg       0.75      0.75      0.75       982\n",
      "\n"
     ]
    }
   ],
   "source": [
    "dados_teste = pd.read_csv('dados/teste.csv')\n",
    "alvo = dados_teste['ALVO']\n",
    "\n",
    "# remover cabecalho e primeira coluna\n",
    "dados_teste = dados_teste.drop(['ALVO'], axis=1)\n",
    "\n",
    "dados_teste.to_csv('dados/teste_endpoint.csv', index=False, header=False)\n",
    "csv_buffer = open('dados/teste_endpoint.csv')\n",
    "my_payload_as_csv = csv_buffer.read()\n",
    "\n",
    "response = runtime.invoke_endpoint(\n",
    "    EndpointName=endpoint_name,\n",
    "    Body= my_payload_as_csv,\n",
    "    ContentType = 'text/csv')\n",
    "\n",
    "result = response['Body'].read()\n",
    "result = result.decode(\"utf-8\")\n",
    "result = result.split(',')\n",
    "preds = [float((num)) for num in result]\n",
    "preds = [round(num) for num in preds]\n",
    "\n",
    "print(metrics.confusion_matrix(alvo, preds))\n",
    "print(metrics.classification_report(alvo, preds))"
   ]
  },
  {
   "cell_type": "code",
   "execution_count": null,
   "id": "8400a10e",
   "metadata": {},
   "outputs": [],
   "source": []
  }
 ],
 "metadata": {
  "kernelspec": {
   "display_name": "conda_python3",
   "language": "python",
   "name": "conda_python3"
  },
  "language_info": {
   "codemirror_mode": {
    "name": "ipython",
    "version": 3
   },
   "file_extension": ".py",
   "mimetype": "text/x-python",
   "name": "python",
   "nbconvert_exporter": "python",
   "pygments_lexer": "ipython3",
   "version": "3.6.13"
  }
 },
 "nbformat": 4,
 "nbformat_minor": 5
}
